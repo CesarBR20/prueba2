{
 "cells": [
  {
   "cell_type": "code",
   "execution_count": 16,
   "id": "7cf35d76",
   "metadata": {},
   "outputs": [
    {
     "data": {
      "text/html": [
       "<div>\n",
       "<style scoped>\n",
       "    .dataframe tbody tr th:only-of-type {\n",
       "        vertical-align: middle;\n",
       "    }\n",
       "\n",
       "    .dataframe tbody tr th {\n",
       "        vertical-align: top;\n",
       "    }\n",
       "\n",
       "    .dataframe thead th {\n",
       "        text-align: right;\n",
       "    }\n",
       "</style>\n",
       "<table border=\"1\" class=\"dataframe\">\n",
       "  <thead>\n",
       "    <tr style=\"text-align: right;\">\n",
       "      <th></th>\n",
       "      <th>id_solicitud</th>\n",
       "      <th>tipo_solicitud</th>\n",
       "      <th>fecha_inicio</th>\n",
       "      <th>fecha_fin</th>\n",
       "      <th>tipo_comp</th>\n",
       "      <th>rfc_emisor</th>\n",
       "      <th>fecha_solicitud</th>\n",
       "      <th>estado</th>\n",
       "      <th>fecha_descarga</th>\n",
       "    </tr>\n",
       "  </thead>\n",
       "  <tbody>\n",
       "    <tr>\n",
       "      <th>0</th>\n",
       "      <td>77b47419-db47-4c95-aff4-b626f16ac3d5</td>\n",
       "      <td>CFDI</td>\n",
       "      <td>2024-01-02</td>\n",
       "      <td>2024-12-31</td>\n",
       "      <td>E</td>\n",
       "      <td>REM150313D57</td>\n",
       "      <td>2025-06-03</td>\n",
       "      <td>solicitado</td>\n",
       "      <td>NaN</td>\n",
       "    </tr>\n",
       "  </tbody>\n",
       "</table>\n",
       "</div>"
      ],
      "text/plain": [
       "                           id_solicitud tipo_solicitud fecha_inicio  \\\n",
       "0  77b47419-db47-4c95-aff4-b626f16ac3d5           CFDI   2024-01-02   \n",
       "\n",
       "    fecha_fin tipo_comp    rfc_emisor fecha_solicitud      estado  \\\n",
       "0  2024-12-31         E  REM150313D57      2025-06-03  solicitado   \n",
       "\n",
       "   fecha_descarga  \n",
       "0             NaN  "
      ]
     },
     "execution_count": 16,
     "metadata": {},
     "output_type": "execute_result"
    }
   ],
   "source": [
    "import pandas as pd\n",
    "\n",
    "cliente = \"REM150313D57\"\n",
    "\n",
    "historial = pd.read_csv(f\"clientes/{cliente}/solicitudes/historial.csv\")\n",
    "\n",
    "historial"
   ]
  }
 ],
 "metadata": {
  "kernelspec": {
   "display_name": "archivos",
   "language": "python",
   "name": "python3"
  },
  "language_info": {
   "codemirror_mode": {
    "name": "ipython",
    "version": 3
   },
   "file_extension": ".py",
   "mimetype": "text/x-python",
   "name": "python",
   "nbconvert_exporter": "python",
   "pygments_lexer": "ipython3",
   "version": "3.13.2"
  }
 },
 "nbformat": 4,
 "nbformat_minor": 5
}
